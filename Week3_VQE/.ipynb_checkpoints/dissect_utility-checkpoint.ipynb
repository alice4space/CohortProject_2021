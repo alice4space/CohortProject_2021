{
 "cells": [
  {
   "cell_type": "code",
   "execution_count": 1,
   "metadata": {},
   "outputs": [
    {
     "name": "stderr",
     "output_type": "stream",
     "text": [
      "/home/abarthe/.local/lib/python3.7/site-packages/pyscf/lib/misc.py:46: H5pyDeprecationWarning: Using default_file_mode other than 'r' is deprecated. Pass the mode to h5py.File() instead.\n",
      "  h5py.get_config().default_file_mode = 'a'\n"
     ]
    }
   ],
   "source": [
    "import numpy as np\n",
    "import matplotlib.pyplot as plt\n",
    "from utility import get_molecular_data"
   ]
  },
  {
   "cell_type": "code",
   "execution_count": 7,
   "metadata": {},
   "outputs": [],
   "source": [
    "from openfermion import QubitOperator, MolecularData, taper_off_qubits, commutator\n",
    "from openfermionpyscf import run_pyscf"
   ]
  },
  {
   "cell_type": "code",
   "execution_count": 2,
   "metadata": {},
   "outputs": [],
   "source": [
    "basis = 'sto-3g'"
   ]
  },
  {
   "cell_type": "code",
   "execution_count": 5,
   "metadata": {},
   "outputs": [
    {
     "name": "stdout",
     "output_type": "stream",
     "text": [
      "[['H', [0, 0, 0]], ['H', [0, 0, 1]]]\n"
     ]
    }
   ],
   "source": [
    "g = get_molecular_data('h2', 1, xyz_format=False)\n",
    "print(g)"
   ]
  },
  {
   "cell_type": "code",
   "execution_count": 8,
   "metadata": {},
   "outputs": [],
   "source": [
    "mol = MolecularData(g, basis, multiplicity=1, charge=0)\n",
    "print(mol)"
   ]
  },
  {
   "cell_type": "code",
   "execution_count": 10,
   "metadata": {},
   "outputs": [],
   "source": [
    "mol = run_pyscf(mol)\n",
    "print(mol)"
   ]
  },
  {
   "cell_type": "code",
   "execution_count": 12,
   "metadata": {},
   "outputs": [
    {
     "name": "stdout",
     "output_type": "stream",
     "text": [
      "() 0.52917721092\n",
      "((0, 1), (0, 0)) -1.1108441798837272\n",
      "((1, 1), (1, 0)) -1.1108441798837272\n",
      "((2, 1), (2, 0)) -0.5891210037060828\n",
      "((3, 1), (3, 0)) -0.5891210037060828\n",
      "((0, 1), (0, 1), (0, 0), (0, 0)) 0.31320124976475894\n",
      "((0, 1), (0, 1), (2, 0), (2, 0)) 0.09839529174273512\n",
      "((0, 1), (1, 1), (1, 0), (0, 0)) 0.31320124976475894\n",
      "((0, 1), (1, 1), (3, 0), (2, 0)) 0.09839529174273512\n",
      "((0, 1), (2, 1), (0, 0), (2, 0)) 0.09839529174273512\n",
      "((0, 1), (2, 1), (2, 0), (0, 0)) 0.3108533815598566\n",
      "((0, 1), (3, 1), (1, 0), (2, 0)) 0.09839529174273512\n",
      "((0, 1), (3, 1), (3, 0), (0, 0)) 0.3108533815598566\n",
      "((1, 1), (0, 1), (0, 0), (1, 0)) 0.31320124976475894\n",
      "((1, 1), (0, 1), (2, 0), (3, 0)) 0.09839529174273512\n",
      "((1, 1), (1, 1), (1, 0), (1, 0)) 0.31320124976475894\n",
      "((1, 1), (1, 1), (3, 0), (3, 0)) 0.09839529174273512\n",
      "((1, 1), (2, 1), (0, 0), (3, 0)) 0.09839529174273512\n",
      "((1, 1), (2, 1), (2, 0), (1, 0)) 0.3108533815598566\n",
      "((1, 1), (3, 1), (1, 0), (3, 0)) 0.09839529174273512\n",
      "((1, 1), (3, 1), (3, 0), (1, 0)) 0.3108533815598566\n",
      "((2, 1), (0, 1), (0, 0), (2, 0)) 0.31085338155985665\n",
      "((2, 1), (0, 1), (2, 0), (0, 0)) 0.09839529174273512\n",
      "((2, 1), (1, 1), (1, 0), (2, 0)) 0.31085338155985665\n",
      "((2, 1), (1, 1), (3, 0), (0, 0)) 0.09839529174273512\n",
      "((2, 1), (2, 1), (0, 0), (0, 0)) 0.09839529174273512\n",
      "((2, 1), (2, 1), (2, 0), (2, 0)) 0.3265353734712869\n",
      "((2, 1), (3, 1), (1, 0), (0, 0)) 0.09839529174273512\n",
      "((2, 1), (3, 1), (3, 0), (2, 0)) 0.3265353734712869\n",
      "((3, 1), (0, 1), (0, 0), (3, 0)) 0.31085338155985665\n",
      "((3, 1), (0, 1), (2, 0), (1, 0)) 0.09839529174273512\n",
      "((3, 1), (1, 1), (1, 0), (3, 0)) 0.31085338155985665\n",
      "((3, 1), (1, 1), (3, 0), (1, 0)) 0.09839529174273512\n",
      "((3, 1), (2, 1), (0, 0), (1, 0)) 0.09839529174273512\n",
      "((3, 1), (2, 1), (2, 0), (3, 0)) 0.3265353734712869\n",
      "((3, 1), (3, 1), (1, 0), (1, 0)) 0.09839529174273512\n",
      "((3, 1), (3, 1), (3, 0), (3, 0)) 0.3265353734712869\n",
      "\n"
     ]
    }
   ],
   "source": [
    "ham = mol.get_molecular_hamiltonian()\n",
    "print(ham)"
   ]
  },
  {
   "cell_type": "code",
   "execution_count": null,
   "metadata": {},
   "outputs": [],
   "source": [
    "hamf = get_fermion_operator(ham)"
   ]
  }
 ],
 "metadata": {
  "kernelspec": {
   "display_name": "Python 3",
   "language": "python",
   "name": "python3"
  },
  "language_info": {
   "codemirror_mode": {
    "name": "ipython",
    "version": 3
   },
   "file_extension": ".py",
   "mimetype": "text/x-python",
   "name": "python",
   "nbconvert_exporter": "python",
   "pygments_lexer": "ipython3",
   "version": "3.7.1"
  }
 },
 "nbformat": 4,
 "nbformat_minor": 2
}
